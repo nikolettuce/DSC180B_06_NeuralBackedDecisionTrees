{
 "cells": [
  {
   "cell_type": "markdown",
   "metadata": {},
   "source": [
    "# Generating Induced Hierarchy\n",
    "Code inspired by Wan, et al: https://arxiv.org/pdf/2004.00221.pdf"
   ]
  },
  {
   "cell_type": "code",
   "execution_count": 2,
   "metadata": {},
   "outputs": [],
   "source": [
    "import sys\n",
    "sys.path.insert(0, \"../src/util\")\n",
    "sys.path.insert(0, \"../src/model\")\n",
    "\n",
    "import argparse\n",
    "import torchvision\n",
    "# this is how we'll generate the wnids and hierarchy\n",
    "from nbdt import data\n",
    "from nltk.corpus import wordnet as wn\n",
    "from pathlib import Path\n",
    "from nbdt.utils import Colors, generate_kwargs\n",
    "\n",
    "from wn_utils import *\n",
    "from graph import *\n",
    "from dir_grab import *\n",
    "\n",
    "import os"
   ]
  },
  {
   "cell_type": "code",
   "execution_count": null,
   "metadata": {},
   "outputs": [],
   "source": [
    "# first we have to change these class names into wordnet ids, but since\n",
    "# theyre in the format of class-XXX, nothing important will be gained from \n",
    "# this information\n",
    "classes = os.listdir('/../teams/DSC180A_FA20_A00/a01group09/train_snakes_r1')\n",
    "\n",
    "# path to write the wnids.txt file to\n",
    "path = Path(\"/data/wnids/snakes.txt\")"
   ]
  },
  {
   "cell_type": "code",
   "execution_count": null,
   "metadata": {},
   "outputs": [],
   "source": [
    "def synset_to_wnid(synset):\n",
    "    return f\"{synset.pos()}{synset.offset():08d}\""
   ]
  },
  {
   "cell_type": "code",
   "execution_count": null,
   "metadata": {},
   "outputs": [],
   "source": [
    "class FakeSynset:\n",
    "    '''\n",
    "    Class to create fake Synonym sets for when wordnet cannot find one\n",
    "    to use\n",
    "    '''\n",
    "    def __init__(self, wnid):\n",
    "        self.wnid = wnid\n",
    "\n",
    "        assert isinstance(wnid, str)\n",
    "\n",
    "    @staticmethod\n",
    "    def create_from_offset(offset):\n",
    "        return FakeSynset(\"f{:08d}\".format(offset))\n",
    "\n",
    "    def offset(self):\n",
    "        return int(self.wnid[1:])\n",
    "\n",
    "    def pos(self):\n",
    "        return \"f\"\n",
    "\n",
    "    def name(self):\n",
    "        return \"(generated)\"\n",
    "\n",
    "    def definition(self):\n",
    "        return \"(generated)\""
   ]
  },
  {
   "cell_type": "code",
   "execution_count": null,
   "metadata": {},
   "outputs": [],
   "source": [
    "failures = []\n",
    "wnids = []\n",
    "\n",
    "for i, cls in enumerate(classes):\n",
    "    synsets = wn.synsets(cls, pos=wn.NOUN)\n",
    "    if not synsets:\n",
    "        #Colors.red(f\"==> Failed to find synset for {cls}. Using fake synset...\")\n",
    "        failures.append(cls)\n",
    "        synsets = [FakeSynset.create_from_offset(i)]\n",
    "    synset = synsets[0]\n",
    "        \n",
    "    wnid = synset_to_wnid(synset)\n",
    "    print(f\"{wnid}: ({cls}) {synset.definition()}\")\n",
    "    wnids.append(wnid)"
   ]
  },
  {
   "cell_type": "code",
   "execution_count": null,
   "metadata": {},
   "outputs": [],
   "source": [
    "# write to path\n",
    "with open(str(path), \"w\") as f:\n",
    "        f.write(\"\\n\".join(wnids))"
   ]
  },
  {
   "cell_type": "markdown",
   "metadata": {},
   "source": [
    "# Induced Hierarchy\n",
    "Now that the wnids have been generated, we will build an induced hierarchy from the state_dict of our baseline model"
   ]
  },
  {
   "cell_type": "code",
   "execution_count": null,
   "metadata": {},
   "outputs": [],
   "source": [
    "generate_hierarchy(dataset='snakes', arch='densenet121', model=model, method='random')"
   ]
  },
  {
   "cell_type": "code",
   "execution_count": null,
   "metadata": {},
   "outputs": [],
   "source": []
  },
  {
   "cell_type": "code",
   "execution_count": null,
   "metadata": {},
   "outputs": [],
   "source": []
  }
 ],
 "metadata": {
  "kernelspec": {
   "display_name": "Python 3",
   "language": "python",
   "name": "python3"
  },
  "language_info": {
   "codemirror_mode": {
    "name": "ipython",
    "version": 3
   },
   "file_extension": ".py",
   "mimetype": "text/x-python",
   "name": "python",
   "nbconvert_exporter": "python",
   "pygments_lexer": "ipython3",
   "version": "3.7.6"
  }
 },
 "nbformat": 4,
 "nbformat_minor": 4
}
